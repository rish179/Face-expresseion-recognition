{
 "cells": [
  {
   "cell_type": "code",
   "execution_count": 1,
   "metadata": {},
   "outputs": [],
   "source": [
    "from module1.localbinarypatterns import LocalBinaryPatterns\n",
    "import cv2\n",
    "import os\n",
    "import numpy as np\n",
    "from sklearn.svm import LinearSVC\n",
    "from imutils import paths\n",
    "import pickle\n",
    "\n",
    "from matplotlib import pyplot as plt\n",
    "\n",
    "import pickle\n",
    "import random\n",
    "from  sklearn.model_selection import train_test_split\n",
    "from sklearn.svm import SVC"
   ]
  },
  {
   "cell_type": "code",
   "execution_count": 2,
   "metadata": {},
   "outputs": [
    {
     "name": "stdout",
     "output_type": "stream",
     "text": [
      "28709\n"
     ]
    }
   ],
   "source": [
    "# initialize the local binary patterns descriptor along with\n",
    "# the data and label lists\n",
    "desc = LocalBinaryPatterns(24, 8)\n",
    "data2 = list()\n",
    "labels = []\n",
    "dir = 'face_data/train'\n",
    "#initialise data\n",
    "categories=['angry','disgust','fear','happy','neutral','sad','surprise']\n",
    "\n",
    "for category in categories:\n",
    "    path = os.path.join(dir,category)                   #path = face_data/train/          \n",
    "    label = categories.index(category)                  #retreiving label\n",
    "    for img in os.listdir(path):\n",
    "        imgpath = os.path.join(path,img)\n",
    "        petimg = cv2.imread(imgpath,0)\n",
    "        try:\n",
    "            pet_img = cv2.resize(petimg,(50,50))\n",
    "            image = np.array(pet_img).flatten()\n",
    "\n",
    "            data2.append([image,label])                   #data and label appended\n",
    "        except Exception as e:\n",
    "            pass\n",
    "\n",
    "\n",
    "print(len(data2))\n",
    "\n",
    "\n",
    "    \n"
   ]
  },
  {
   "cell_type": "code",
   "execution_count": null,
   "metadata": {},
   "outputs": [],
   "source": []
  },
  {
   "cell_type": "code",
   "execution_count": 4,
   "metadata": {},
   "outputs": [
    {
     "data": {
      "text/plain": [
       "28709"
      ]
     },
     "execution_count": 4,
     "metadata": {},
     "output_type": "execute_result"
    }
   ],
   "source": [
    "len(data2)"
   ]
  },
  {
   "cell_type": "code",
   "execution_count": 5,
   "metadata": {},
   "outputs": [],
   "source": [
    "pick_in = open('data2.pickle','wb')\n",
    "pickle.dump(data2,pick_in)\n",
    "pick_in.close()"
   ]
  },
  {
   "cell_type": "code",
   "execution_count": 6,
   "metadata": {},
   "outputs": [],
   "source": [
    "\n",
    "#pick_in = open('data2.pickle','rb')\n",
    "#data2 = pickle.load(pick_in)\n",
    "#pick_in.close()\n",
    "\n",
    "#random.shuffle(data2)\n",
    "#features = []\n",
    "#labels =[]\n",
    "\n",
    "#for feature,label in data2:\n",
    "#    features.append(feature)\n",
    "#    labels.append(label)\n",
    "#\n",
    "#xtrain, xtest,ytrain, ytest = train_test_split(features, labels, test_size= 0.50)\n",
    "#\n",
    "#model2 = SVC(C=1, kernel='poly',gamma= 'auto')\n",
    "#model2.fit(xtrain,ytrain)\n",
    "\n",
    "#pick = open('model2.sav','wb')\n",
    "#pickle.dump(model2,pick)\n",
    "#pick.close()\n"
   ]
  },
  {
   "cell_type": "code",
   "execution_count": 9,
   "metadata": {},
   "outputs": [
    {
     "name": "stdout",
     "output_type": "stream",
     "text": [
      "accuracy: 0.6696851490665924\n",
      "Prediction is :  sad\n"
     ]
    },
    {
     "data": {
      "image/png": "[encoded data removed]",
      "text/plain": [
       "<Figure size 432x288 with 1 Axes>"
      ]
     },
     "metadata": {
      "needs_background": "light"
     },
     "output_type": "display_data"
    }
   ],
   "source": [
    "\n",
    "pick_in = open('data2.pickle','rb')\n",
    "data2 = pickle.load(pick_in)\n",
    "pick_in.close()\n",
    "\n",
    "random.shuffle(data2)\n",
    "features = []\n",
    "labels =[]\n",
    "\n",
    "for feature,label in data2:\n",
    "    features.append(feature)\n",
    "    labels.append(label)\n",
    "xtrain, xtest,ytrain, ytest = train_test_split(features, labels, test_size= 0.25)\n",
    "\n",
    "    \n",
    "pick = open('model2.sav','rb')\n",
    "model2=pickle.load(pick)\n",
    "pick.close()\n",
    "\n",
    "prediction = model2.predict(xtest)\n",
    "accuracy = model2.score(xtest, ytest)\n",
    "categories=['angry','disgust','fear','happy','neutral','sad','surprise']\n",
    "print('accuracy:',accuracy)\n",
    "print('Prediction is : ',categories[prediction[0]])\n",
    "\n",
    "mypet = xtest[0].reshape(50,50)\n",
    "plt.imshow(mypet,cmap='gray')\n",
    "plt.show()"
   ]
  },
  {
   "cell_type": "code",
   "execution_count": null,
   "metadata": {},
   "outputs": [],
   "source": []
  }
 ],
 "metadata": {
  "kernelspec": {
   "display_name": "Python 3",
   "language": "python",
   "name": "python3"
  },
  "language_info": {
   "codemirror_mode": {
    "name": "ipython",
    "version": 3
   },
   "file_extension": ".py",
   "mimetype": "text/x-python",
   "name": "python",
   "nbconvert_exporter": "python",
   "pygments_lexer": "ipython3",
   "version": "3.7.3"
  }
 },
 "nbformat": 4,
 "nbformat_minor": 2
}
